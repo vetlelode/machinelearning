{
 "cells": [
  {
   "cell_type": "code",
   "execution_count": 66,
   "metadata": {},
   "outputs": [],
   "source": [
    "import numpy as np\n",
    "import matplotlib as plt\n",
    "from sklearn import datasets\n",
    "from sklearn.model_selection import train_test_split\n",
    "from sklearn.svm import SVC\n",
    "from sklearn.preprocessing import StandardScaler\n",
    "from sklearn.pipeline import make_pipeline\n",
    "from sklearn.model_selection import GridSearchCV"
   ]
  },
  {
   "cell_type": "code",
   "execution_count": 133,
   "metadata": {},
   "outputs": [],
   "source": [
    "X_tot = datasets.load_digits().data\n",
    "Y_tot = datasets.load_digits().target\n",
    "X, X_test, Y, Y_test = train_test_split(X_tot, Y_tot, test_size=0.2)\n",
    "#Scale here is the value that would normally equal gamma = 'scale'\n",
    "scale = 1/(X.shape[1]*X.var())\n",
    "parameters = {'C':np.arange(1,10.5,0.5), 'gamma': np.arange(scale/2,scale*2,scale/10)}"
   ]
  },
  {
   "cell_type": "code",
   "execution_count": 134,
   "metadata": {},
   "outputs": [],
   "source": [
    "clf = GridSearchCV(SVC(), parameters, n_jobs=-1).fit(X, Y)"
   ]
  },
  {
   "cell_type": "code",
   "execution_count": 135,
   "metadata": {},
   "outputs": [
    {
     "output_type": "stream",
     "name": "stdout",
     "text": [
      "Best result gained with C=3.0 and gamma=0.0004733858293661042\nGiving the accuracy: p=0.9944444444444445\n"
     ]
    }
   ],
   "source": [
    "score = clf.score(X_test,Y_test)\n",
    "C =clf.best_estimator_.C\n",
    "Gamma = clf.best_estimator_.gamma\n",
    "print(\"Best result gained with C={} and gamma={}\\nGiving the accuracy: p={}\".format(C, Gamma, score))"
   ]
  }
 ],
 "metadata": {
  "kernelspec": {
   "display_name": "Python 3",
   "language": "python",
   "name": "python3"
  },
  "language_info": {
   "codemirror_mode": {
    "name": "ipython",
    "version": 3
   },
   "file_extension": ".py",
   "mimetype": "text/x-python",
   "name": "python",
   "nbconvert_exporter": "python",
   "pygments_lexer": "ipython3",
   "version": "3.7.7-final"
  }
 },
 "nbformat": 4,
 "nbformat_minor": 4
}