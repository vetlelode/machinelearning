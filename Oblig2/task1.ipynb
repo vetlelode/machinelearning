{
 "metadata": {
  "language_info": {
   "codemirror_mode": {
    "name": "ipython",
    "version": 3
   },
   "file_extension": ".py",
   "mimetype": "text/x-python",
   "name": "python",
   "nbconvert_exporter": "python",
   "pygments_lexer": "ipython3",
   "version": "3.7.7-final"
  },
  "orig_nbformat": 2,
  "kernelspec": {
   "name": "Python 3.7.7 64-bit ('base': conda)",
   "display_name": "Python 3.7.7 64-bit ('base': conda)",
   "metadata": {
    "interpreter": {
     "hash": "2289be03a71bcc0df59cd3da8b342902217db41e8e79957f0b11f8391cc81fae"
    }
   }
  }
 },
 "nbformat": 4,
 "nbformat_minor": 2,
 "cells": [
  {
   "cell_type": "code",
   "execution_count": 42,
   "metadata": {},
   "outputs": [],
   "source": [
    "import numpy as np\n",
    "from sklearn import datasets\n",
    "from sklearn.model_selection import train_test_split\n",
    "from sklearn.neural_network import MLPClassifier\n",
    "from sklearn.model_selection import GridSearchCV\n",
    "import itertools"
   ]
  },
  {
   "cell_type": "code",
   "execution_count": 43,
   "metadata": {},
   "outputs": [],
   "source": [
    "# Import the dataset split into training and testing, etc..\n",
    "X_tot = datasets.load_digits().data\n",
    "Y_tot = datasets.load_digits().target\n",
    "X, X_test, Y, Y_test = train_test_split(X_tot, Y_tot, test_size=0.2)"
   ]
  },
  {
   "cell_type": "code",
   "execution_count": 44,
   "metadata": {},
   "outputs": [],
   "source": [
    "parameters_3layers = {'hidden_layer_sizes': [x for x in itertools.product((50,100,200,300,400,500),repeat=3)], 'solver':[\"lbfgs\"], 'activation':[\"tanh\"], 'max_iter':[1000], 'verbose':[True]}\n",
    "parameters_2layers = {'hidden_layer_sizes': [x for x in itertools.product((50,100,200,300,400,500),repeat=2)], 'solver':[\"lbfgs\"], 'activation':[\"tanh\"], 'max_iter':[1000], 'verbose':[True]}"
   ]
  },
  {
   "cell_type": "code",
   "execution_count": 45,
   "metadata": {},
   "outputs": [],
   "source": [
    "clf_3_layers = GridSearchCV(MLPClassifier(), parameters_3layers, n_jobs=-1, iid=True).fit(X,Y)\n",
    "score3 = clf_3_layers.score(X_test,Y_test)"
   ]
  },
  {
   "cell_type": "code",
   "execution_count": 46,
   "metadata": {},
   "outputs": [],
   "source": [
    "clf_2_layers = GridSearchCV(MLPClassifier(), parameters_2layers, n_jobs=-1, iid=True).fit(X,Y)\n",
    "score2 = clf_2_layers.score(X_test,Y_test)"
   ]
  },
  {
   "cell_type": "code",
   "execution_count": 47,
   "metadata": {},
   "outputs": [
    {
     "output_type": "stream",
     "name": "stdout",
     "text": [
      "The highest score achived with 2 layers: 0.961, with params: {'activation': 'tanh', 'hidden_layer_sizes': (400, 500), 'max_iter': 1000, 'solver': 'lbfgs', 'verbose': True} \nThe highest score achived with 3 layers: 0.975, with params: {'activation': 'tanh', 'hidden_layer_sizes': (300, 400, 100), 'max_iter': 1000, 'solver': 'lbfgs', 'verbose': True}\n"
     ]
    }
   ],
   "source": [
    "print(\"The highest score achived with 2 layers: {}, with params: {} \\nThe highest score achived with 3 layers: {}, with params: {}\".format(round(score2, 3),clf_2_layers.best_params_,round(score3,3),clf_3_layers.best_params_))"
   ]
  },
  {
   "cell_type": "code",
   "execution_count": null,
   "metadata": {},
   "outputs": [],
   "source": []
  }
 ]
}