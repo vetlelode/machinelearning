{
 "metadata": {
  "language_info": {
   "codemirror_mode": {
    "name": "ipython",
    "version": 3
   },
   "file_extension": ".py",
   "mimetype": "text/x-python",
   "name": "python",
   "nbconvert_exporter": "python",
   "pygments_lexer": "ipython3",
   "version": "3.7.7-final"
  },
  "orig_nbformat": 2,
  "kernelspec": {
   "name": "Python 3.7.7 64-bit ('base': conda)",
   "display_name": "Python 3.7.7 64-bit ('base': conda)",
   "metadata": {
    "interpreter": {
     "hash": "2289be03a71bcc0df59cd3da8b342902217db41e8e79957f0b11f8391cc81fae"
    }
   }
  }
 },
 "nbformat": 4,
 "nbformat_minor": 2,
 "cells": [
  {
   "cell_type": "code",
   "execution_count": 1,
   "metadata": {},
   "outputs": [],
   "source": [
    "import numpy as np\n",
    "from sklearn import datasets\n",
    "from sklearn.model_selection import train_test_split\n",
    "from sklearn.neural_network import MLPClassifier\n",
    "from sklearn.model_selection import GridSearchCV\n",
    "import itertools"
   ]
  },
  {
   "cell_type": "code",
   "execution_count": 2,
   "metadata": {},
   "outputs": [],
   "source": [
    "# Import the dataset split into training and testing, etc..\n",
    "X_tot = datasets.load_digits().data\n",
    "Y_tot = datasets.load_digits().target\n",
    "X, X_test, Y, Y_test = train_test_split(X_tot, Y_tot, test_size=0.2)"
   ]
  },
  {
   "cell_type": "code",
   "execution_count": 5,
   "metadata": {},
   "outputs": [],
   "source": [
    "parameters = {'hidden_layer_sizes': [x for x in itertools.product(np.arange(100,600,50),repeat=2)], 'solver':[\"lbfgs\"], 'activation':[\"tanh\"], 'max_iter':[1000], 'verbose':[True]}"
   ]
  },
  {
   "cell_type": "code",
   "execution_count": 6,
   "metadata": {},
   "outputs": [],
   "source": [
    "clf = GridSearchCV(MLPClassifier(), parameters, n_jobs=-1, iid=True).fit(X,Y)"
   ]
  },
  {
   "cell_type": "code",
   "execution_count": 7,
   "metadata": {},
   "outputs": [
    {
     "output_type": "stream",
     "name": "stdout",
     "text": [
      "0.9722222222222222\n{'activation': 'tanh', 'hidden_layer_sizes': (550, 300), 'max_iter': 1000, 'solver': 'lbfgs', 'verbose': True}\n"
     ]
    }
   ],
   "source": [
    "print(clf.score(X_test,Y_test))\n",
    "print(clf.best_params_)"
   ]
  }
 ]
}